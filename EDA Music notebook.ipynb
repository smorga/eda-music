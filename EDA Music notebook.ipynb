{
 "cells": [
  {
   "attachments": {},
   "cell_type": "markdown",
   "metadata": {},
   "source": [
    "Postgrado Ciencia de Datos\n",
    "Asignatura: Captura y Almacenamiento de Datos\n",
    "Trabajo final: Análisis de Datos\n",
    "Docente: Mg. Marcelo Dante Caiafa\n",
    "Autores del Trabajo: Lucila Lobosco, Sebastian Morga"
   ]
  },
  {
   "attachments": {},
   "cell_type": "markdown",
   "metadata": {},
   "source": [
    "Resumen: descripción breve de algunas líneas del trabajo"
   ]
  },
  {
   "attachments": {},
   "cell_type": "markdown",
   "metadata": {},
   "source": [
    "Objetivos: enumeración clara y concreta de los propósitos del trabajo"
   ]
  },
  {
   "attachments": {},
   "cell_type": "markdown",
   "metadata": {},
   "source": [
    "Introducción: presentar el contexto del trabajo, tipo de industria vinculada, potenciales destinatarios del informe, alineación con los objetivos estratégicos, valor que pretende aportar."
   ]
  },
  {
   "attachments": {},
   "cell_type": "markdown",
   "metadata": {},
   "source": [
    "Alcance del trabajo: definir claramente los límites del proyecto, plazos y entregables"
   ]
  },
  {
   "cell_type": "code",
   "execution_count": 2,
   "metadata": {},
   "outputs": [],
   "source": [
    "import pandas as pd\n",
    "import numpy as np\n",
    "import matplotlib.pyplot as plt\n",
    "import seaborn as sn"
   ]
  },
  {
   "attachments": {},
   "cell_type": "markdown",
   "metadata": {},
   "source": [
    "Fuente de Datos: (Seba) \n",
    "El set de datos trabajado fue adquirido de la web de Kaggle (https://www.kaggle.com/datasets). A su vez, se trabajó con la obtención de datos directamente de la API de Spotify (LINK)"
   ]
  },
  {
   "cell_type": "code",
   "execution_count": 3,
   "metadata": {},
   "outputs": [],
   "source": [
    "datos_leidos = pd.read_csv(\"Spotify_Youtube.csv\", index_col=0)"
   ]
  },
  {
   "attachments": {},
   "cell_type": "markdown",
   "metadata": {},
   "source": [
    "Obtención de Datos: (Seba)\n",
    "A nivel captura de datos la metodología fue la lectura desde un csv y la consulta vía API de datos adicionales. \n",
    "\n",
    "El dato de la fecha de lanzamiento del track fue requerida para el alcance del trabajo propuesto y su obtención fue por medio de una consulta a la API de Spotify. Debido a que el proceso para obtener esta información llevó aproximadamente 80 minutos, se decidió materializar el resultado en un nuevo csv el cual se utilizará para todo el resto del trabajo."
   ]
  },
  {
   "attachments": {},
   "cell_type": "markdown",
   "metadata": {},
   "source": [
    "Estructura de Datos: presentar la organización de los datos, sus descriptores y un diccionario de datos, la definición y características de sus indicadores.\n",
    "(ver en kaggle) (Seba)"
   ]
  },
  {
   "cell_type": "code",
   "execution_count": 4,
   "metadata": {},
   "outputs": [],
   "source": [
    "##cargar el nuevo csv\n",
    "datos_leidos_ampliado = pd.read_csv(\"Spotify_Youtube.csv\", index_col=0)"
   ]
  },
  {
   "attachments": {},
   "cell_type": "markdown",
   "metadata": {},
   "source": [
    "Limpieza de Datos: detallar la implementación de los procesos de manipulación y tratamiento previo al análisis.\n",
    "(Luci)\n",
    "-sacar urls\n",
    "-sacar el uri y dejar sólo el id\n",
    "-sacar commets"
   ]
  },
  {
   "attachments": {},
   "cell_type": "markdown",
   "metadata": {},
   "source": [
    "Calidad de Datos: se identificaron datos faltantes, datos con valores inválidos, fuera de rango, valores atípicos, registros duplicados.\n",
    "-sacar nan\n"
   ]
  },
  {
   "attachments": {},
   "cell_type": "markdown",
   "metadata": {},
   "source": [
    "Proceso de Análisis de Datos (Luci)\n",
    "• Análisis exploratorio El propósito de este paso es tener una idea de las relaciones entre los datos y determinar qué tipo de análisis tiene sentido.\n"
   ]
  },
  {
   "attachments": {},
   "cell_type": "markdown",
   "metadata": {},
   "source": [
    "• Análisis estadístico Este paso realiza el análisis estadístico tal como determinar su significancia estadística y el tamaño del impacto.\n"
   ]
  },
  {
   "attachments": {},
   "cell_type": "markdown",
   "metadata": {},
   "source": [
    "• Dar sentido a los resultados Este paso interpreta los resultados estadísticos en el contexto del estudio global.\n"
   ]
  },
  {
   "attachments": {},
   "cell_type": "markdown",
   "metadata": {},
   "source": [
    "• Determinar las implicancias Este paso interpreta los datos conectándolos con los objetivos del estudio y con el campo de estudio al que pertenece\n"
   ]
  }
 ],
 "metadata": {
  "kernelspec": {
   "display_name": "Python 3",
   "language": "python",
   "name": "python3"
  },
  "language_info": {
   "codemirror_mode": {
    "name": "ipython",
    "version": 3
   },
   "file_extension": ".py",
   "mimetype": "text/x-python",
   "name": "python",
   "nbconvert_exporter": "python",
   "pygments_lexer": "ipython3",
   "version": "3.10.11"
  },
  "orig_nbformat": 4
 },
 "nbformat": 4,
 "nbformat_minor": 2
}
