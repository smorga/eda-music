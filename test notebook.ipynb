{
 "cells": [
  {
   "cell_type": "code",
   "execution_count": null,
   "metadata": {},
   "outputs": [],
   "source": [
    "import pandas as pd\n",
    "import numpy as np\n",
    "import matplotlib.pyplot as plt\n",
    "import seaborn as sn"
   ]
  },
  {
   "attachments": {},
   "cell_type": "markdown",
   "metadata": {},
   "source": [
    "Obtención de Datos: explica la metodología de colección de datos\n",
    "El set de datos trabajado fue adquirido de la web de Kaggle (https://www.kaggle.com/datasets). A nivel captura de datos la metodología fue la lectura desde un csv."
   ]
  },
  {
   "cell_type": "code",
   "execution_count": null,
   "metadata": {},
   "outputs": [],
   "source": [
    "datos_leidos = pd.read_csv(\"Spotify_Youtube.csv\", index_col=0)"
   ]
  },
  {
   "attachments": {},
   "cell_type": "markdown",
   "metadata": {},
   "source": [
    "Estructura de Datos: presentar la organización de los datos, sus descriptores y un diccionario de datos, la definición y características de sus indicadores.\n"
   ]
  },
  {
   "cell_type": "code",
   "execution_count": null,
   "metadata": {},
   "outputs": [],
   "source": [
    "df = datos_leidos\n",
    "numeric_columns = df.select_dtypes(include=[np.number]).columns.tolist()\n",
    "numeric_resume = df[numeric_columns].describe()\n",
    "numeric_resume"
   ]
  },
  {
   "cell_type": "code",
   "execution_count": null,
   "metadata": {},
   "outputs": [],
   "source": [
    "correlations = df[numeric_columns].corr()"
   ]
  },
  {
   "cell_type": "code",
   "execution_count": null,
   "metadata": {},
   "outputs": [],
   "source": [
    "f, ax = plt.subplots(figsize=(8, 5))\n",
    "cmap = sn.diverging_palette(250, 10, as_cmap=True)\n",
    "mask = np.triu(np.ones_like(correlations, dtype=bool))\n",
    "sn.heatmap(correlations, cmap=cmap, mask=mask, linewidths=0.5, center=0)\n",
    "plt.show()"
   ]
  },
  {
   "cell_type": "code",
   "execution_count": null,
   "metadata": {},
   "outputs": [],
   "source": [
    "## pip install spotipy"
   ]
  },
  {
   "attachments": {},
   "cell_type": "markdown",
   "metadata": {},
   "source": [
    "Obtención de Datos\n",
    "levanto la librería, seteo los client id y demás\n"
   ]
  },
  {
   "cell_type": "code",
   "execution_count": null,
   "metadata": {},
   "outputs": [],
   "source": [
    "import spotipy\n",
    "from spotipy.oauth2 import SpotifyClientCredentials\n",
    "\n",
    "client_id = \"67e290d37cfb429b8c53c0c930133bff\"\n",
    "client_secret = \"6880ee9c0dca48d7a9e520da6be9d2f2\"\n",
    "client_credentials_manager = SpotifyClientCredentials(\n",
    "    client_id=client_id, client_secret=client_secret\n",
    ")\n",
    "sp = spotipy.Spotify(client_credentials_manager=client_credentials_manager)"
   ]
  },
  {
   "attachments": {},
   "cell_type": "markdown",
   "metadata": {},
   "source": [
    "Ejemplo: Este es un search típico de la librería\n"
   ]
  },
  {
   "cell_type": "code",
   "execution_count": null,
   "metadata": {},
   "outputs": [],
   "source": [
    "name = [\"Micheal Jackson\", \"pitbull\", \"Christina\", \"Elvis Presley\"]\n",
    "result = sp.search(name)\n",
    "result[\"tracks\"][\"items\"][1][\"artists\"]"
   ]
  },
  {
   "attachments": {},
   "cell_type": "markdown",
   "metadata": {},
   "source": [
    "Ejemplo: Así extraemos los audio features\n"
   ]
  },
  {
   "cell_type": "code",
   "execution_count": null,
   "metadata": {},
   "outputs": [],
   "source": [
    "sample = sp.audio_features(\"0d28khcov6AiegSCpG5TuT\")\n",
    "sample"
   ]
  },
  {
   "attachments": {},
   "cell_type": "markdown",
   "metadata": {},
   "source": [
    "Ejemplo: con esto consigo el release date de un track (en realidad del album de ese track)\n"
   ]
  },
  {
   "cell_type": "code",
   "execution_count": null,
   "metadata": {},
   "outputs": [],
   "source": [
    "release_date = sp.track(\"0d28khcov6AiegSCpG5TuT\")[\"album\"][\"release_date\"]\n",
    "release_date"
   ]
  },
  {
   "attachments": {},
   "cell_type": "markdown",
   "metadata": {},
   "source": [
    "acá consigo todos los ids de los tracks de mi dataframe\n"
   ]
  },
  {
   "cell_type": "code",
   "execution_count": null,
   "metadata": {},
   "outputs": [],
   "source": [
    "uri = df.loc[:, \"Uri\"]\n",
    "list_id = uri.str[-22:]\n",
    "print(list_id)\n",
    "type(list_id)\n",
    "print(len(list_id))"
   ]
  },
  {
   "cell_type": "code",
   "execution_count": null,
   "metadata": {},
   "outputs": [],
   "source": [
    "print(list_id[1:4])\n",
    "list_id.shape"
   ]
  },
  {
   "cell_type": "code",
   "execution_count": null,
   "metadata": {},
   "outputs": [],
   "source": [
    "dates = []\n",
    "for i in list_id[1:1000]:\n",
    "    ##print(sp.track(i)['album']['release_date'])\n",
    "    dates.append(sp.track(i)[\"album\"][\"release_date\"])\n",
    "    ##print(dates)"
   ]
  },
  {
   "cell_type": "code",
   "execution_count": null,
   "metadata": {},
   "outputs": [],
   "source": [
    "df1000 = pd.DataFrame(list_id[1:1000])\n",
    "df_ID_release = df1000.assign(Date_of_release=dates)\n",
    "print(df_ID_release)"
   ]
  }
 ],
 "metadata": {
  "kernelspec": {
   "display_name": "Python 3",
   "language": "python",
   "name": "python3"
  },
  "language_info": {
   "codemirror_mode": {
    "name": "ipython",
    "version": 3
   },
   "file_extension": ".py",
   "mimetype": "text/x-python",
   "name": "python",
   "nbconvert_exporter": "python",
   "pygments_lexer": "ipython3",
   "version": "3.10.11"
  },
  "orig_nbformat": 4
 },
 "nbformat": 4,
 "nbformat_minor": 2
}
