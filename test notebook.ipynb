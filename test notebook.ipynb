{
 "cells": [
  {
   "cell_type": "code",
   "execution_count": 1,
   "metadata": {},
   "outputs": [],
   "source": [
    "import pandas as pd\n",
    "import numpy as np\n",
    "import matplotlib.pyplot as plt\n",
    "import seaborn as sn"
   ]
  },
  {
   "attachments": {},
   "cell_type": "markdown",
   "metadata": {},
   "source": [
    "El set de datos trabajado fue adquirido de la web de Kaggle (https://www.kaggle.com/datasets). A nivel captura de datos la metodología fue la lectura desde un csv."
   ]
  },
  {
   "cell_type": "code",
   "execution_count": 2,
   "metadata": {},
   "outputs": [],
   "source": [
    "datos_leidos = pd.read_csv(\"Spotify_Youtube.csv\",index_col=0)"
   ]
  },
  {
   "cell_type": "code",
   "execution_count": 3,
   "metadata": {},
   "outputs": [
    {
     "data": {
      "text/html": [
       "<div>\n",
       "<style scoped>\n",
       "    .dataframe tbody tr th:only-of-type {\n",
       "        vertical-align: middle;\n",
       "    }\n",
       "\n",
       "    .dataframe tbody tr th {\n",
       "        vertical-align: top;\n",
       "    }\n",
       "\n",
       "    .dataframe thead th {\n",
       "        text-align: right;\n",
       "    }\n",
       "</style>\n",
       "<table border=\"1\" class=\"dataframe\">\n",
       "  <thead>\n",
       "    <tr style=\"text-align: right;\">\n",
       "      <th></th>\n",
       "      <th>Danceability</th>\n",
       "      <th>Energy</th>\n",
       "      <th>Key</th>\n",
       "      <th>Loudness</th>\n",
       "      <th>Speechiness</th>\n",
       "      <th>Acousticness</th>\n",
       "      <th>Instrumentalness</th>\n",
       "      <th>Liveness</th>\n",
       "      <th>Valence</th>\n",
       "      <th>Tempo</th>\n",
       "      <th>Duration_ms</th>\n",
       "      <th>Views</th>\n",
       "      <th>Likes</th>\n",
       "      <th>Comments</th>\n",
       "      <th>Stream</th>\n",
       "    </tr>\n",
       "  </thead>\n",
       "  <tbody>\n",
       "    <tr>\n",
       "      <th>count</th>\n",
       "      <td>20716.000000</td>\n",
       "      <td>20716.000000</td>\n",
       "      <td>20716.000000</td>\n",
       "      <td>20716.000000</td>\n",
       "      <td>20716.000000</td>\n",
       "      <td>20716.000000</td>\n",
       "      <td>20716.000000</td>\n",
       "      <td>20716.000000</td>\n",
       "      <td>20716.000000</td>\n",
       "      <td>20716.000000</td>\n",
       "      <td>2.071600e+04</td>\n",
       "      <td>2.024800e+04</td>\n",
       "      <td>2.017700e+04</td>\n",
       "      <td>2.014900e+04</td>\n",
       "      <td>2.014200e+04</td>\n",
       "    </tr>\n",
       "    <tr>\n",
       "      <th>mean</th>\n",
       "      <td>0.619777</td>\n",
       "      <td>0.635250</td>\n",
       "      <td>5.300348</td>\n",
       "      <td>-7.671680</td>\n",
       "      <td>0.096456</td>\n",
       "      <td>0.291535</td>\n",
       "      <td>0.055962</td>\n",
       "      <td>0.193521</td>\n",
       "      <td>0.529853</td>\n",
       "      <td>120.638340</td>\n",
       "      <td>2.247176e+05</td>\n",
       "      <td>9.393782e+07</td>\n",
       "      <td>6.633411e+05</td>\n",
       "      <td>2.751899e+04</td>\n",
       "      <td>1.359422e+08</td>\n",
       "    </tr>\n",
       "    <tr>\n",
       "      <th>std</th>\n",
       "      <td>0.165272</td>\n",
       "      <td>0.214147</td>\n",
       "      <td>3.576449</td>\n",
       "      <td>4.632749</td>\n",
       "      <td>0.111960</td>\n",
       "      <td>0.286299</td>\n",
       "      <td>0.193262</td>\n",
       "      <td>0.168531</td>\n",
       "      <td>0.245441</td>\n",
       "      <td>29.579018</td>\n",
       "      <td>1.247905e+05</td>\n",
       "      <td>2.746443e+08</td>\n",
       "      <td>1.789324e+06</td>\n",
       "      <td>1.932347e+05</td>\n",
       "      <td>2.441321e+08</td>\n",
       "    </tr>\n",
       "    <tr>\n",
       "      <th>min</th>\n",
       "      <td>0.000000</td>\n",
       "      <td>0.000020</td>\n",
       "      <td>0.000000</td>\n",
       "      <td>-46.251000</td>\n",
       "      <td>0.000000</td>\n",
       "      <td>0.000001</td>\n",
       "      <td>0.000000</td>\n",
       "      <td>0.014500</td>\n",
       "      <td>0.000000</td>\n",
       "      <td>0.000000</td>\n",
       "      <td>3.098500e+04</td>\n",
       "      <td>0.000000e+00</td>\n",
       "      <td>0.000000e+00</td>\n",
       "      <td>0.000000e+00</td>\n",
       "      <td>6.574000e+03</td>\n",
       "    </tr>\n",
       "    <tr>\n",
       "      <th>25%</th>\n",
       "      <td>0.518000</td>\n",
       "      <td>0.507000</td>\n",
       "      <td>2.000000</td>\n",
       "      <td>-8.858000</td>\n",
       "      <td>0.035700</td>\n",
       "      <td>0.045200</td>\n",
       "      <td>0.000000</td>\n",
       "      <td>0.094100</td>\n",
       "      <td>0.339000</td>\n",
       "      <td>97.002000</td>\n",
       "      <td>1.800095e+05</td>\n",
       "      <td>1.826002e+06</td>\n",
       "      <td>2.158100e+04</td>\n",
       "      <td>5.090000e+02</td>\n",
       "      <td>1.767486e+07</td>\n",
       "    </tr>\n",
       "    <tr>\n",
       "      <th>50%</th>\n",
       "      <td>0.637000</td>\n",
       "      <td>0.666000</td>\n",
       "      <td>5.000000</td>\n",
       "      <td>-6.536000</td>\n",
       "      <td>0.050500</td>\n",
       "      <td>0.193000</td>\n",
       "      <td>0.000002</td>\n",
       "      <td>0.125000</td>\n",
       "      <td>0.537000</td>\n",
       "      <td>119.965000</td>\n",
       "      <td>2.132845e+05</td>\n",
       "      <td>1.450110e+07</td>\n",
       "      <td>1.244810e+05</td>\n",
       "      <td>3.277000e+03</td>\n",
       "      <td>4.968298e+07</td>\n",
       "    </tr>\n",
       "    <tr>\n",
       "      <th>75%</th>\n",
       "      <td>0.740250</td>\n",
       "      <td>0.798000</td>\n",
       "      <td>8.000000</td>\n",
       "      <td>-4.931000</td>\n",
       "      <td>0.103000</td>\n",
       "      <td>0.477250</td>\n",
       "      <td>0.000463</td>\n",
       "      <td>0.237000</td>\n",
       "      <td>0.726250</td>\n",
       "      <td>139.935000</td>\n",
       "      <td>2.524430e+05</td>\n",
       "      <td>7.039975e+07</td>\n",
       "      <td>5.221480e+05</td>\n",
       "      <td>1.436000e+04</td>\n",
       "      <td>1.383581e+08</td>\n",
       "    </tr>\n",
       "    <tr>\n",
       "      <th>max</th>\n",
       "      <td>0.975000</td>\n",
       "      <td>1.000000</td>\n",
       "      <td>11.000000</td>\n",
       "      <td>0.920000</td>\n",
       "      <td>0.964000</td>\n",
       "      <td>0.996000</td>\n",
       "      <td>1.000000</td>\n",
       "      <td>1.000000</td>\n",
       "      <td>0.993000</td>\n",
       "      <td>243.372000</td>\n",
       "      <td>4.676058e+06</td>\n",
       "      <td>8.079649e+09</td>\n",
       "      <td>5.078865e+07</td>\n",
       "      <td>1.608314e+07</td>\n",
       "      <td>3.386520e+09</td>\n",
       "    </tr>\n",
       "  </tbody>\n",
       "</table>\n",
       "</div>"
      ],
      "text/plain": [
       "       Danceability        Energy           Key      Loudness   Speechiness   \n",
       "count  20716.000000  20716.000000  20716.000000  20716.000000  20716.000000  \\\n",
       "mean       0.619777      0.635250      5.300348     -7.671680      0.096456   \n",
       "std        0.165272      0.214147      3.576449      4.632749      0.111960   \n",
       "min        0.000000      0.000020      0.000000    -46.251000      0.000000   \n",
       "25%        0.518000      0.507000      2.000000     -8.858000      0.035700   \n",
       "50%        0.637000      0.666000      5.000000     -6.536000      0.050500   \n",
       "75%        0.740250      0.798000      8.000000     -4.931000      0.103000   \n",
       "max        0.975000      1.000000     11.000000      0.920000      0.964000   \n",
       "\n",
       "       Acousticness  Instrumentalness      Liveness       Valence   \n",
       "count  20716.000000      20716.000000  20716.000000  20716.000000  \\\n",
       "mean       0.291535          0.055962      0.193521      0.529853   \n",
       "std        0.286299          0.193262      0.168531      0.245441   \n",
       "min        0.000001          0.000000      0.014500      0.000000   \n",
       "25%        0.045200          0.000000      0.094100      0.339000   \n",
       "50%        0.193000          0.000002      0.125000      0.537000   \n",
       "75%        0.477250          0.000463      0.237000      0.726250   \n",
       "max        0.996000          1.000000      1.000000      0.993000   \n",
       "\n",
       "              Tempo   Duration_ms         Views         Likes      Comments   \n",
       "count  20716.000000  2.071600e+04  2.024800e+04  2.017700e+04  2.014900e+04  \\\n",
       "mean     120.638340  2.247176e+05  9.393782e+07  6.633411e+05  2.751899e+04   \n",
       "std       29.579018  1.247905e+05  2.746443e+08  1.789324e+06  1.932347e+05   \n",
       "min        0.000000  3.098500e+04  0.000000e+00  0.000000e+00  0.000000e+00   \n",
       "25%       97.002000  1.800095e+05  1.826002e+06  2.158100e+04  5.090000e+02   \n",
       "50%      119.965000  2.132845e+05  1.450110e+07  1.244810e+05  3.277000e+03   \n",
       "75%      139.935000  2.524430e+05  7.039975e+07  5.221480e+05  1.436000e+04   \n",
       "max      243.372000  4.676058e+06  8.079649e+09  5.078865e+07  1.608314e+07   \n",
       "\n",
       "             Stream  \n",
       "count  2.014200e+04  \n",
       "mean   1.359422e+08  \n",
       "std    2.441321e+08  \n",
       "min    6.574000e+03  \n",
       "25%    1.767486e+07  \n",
       "50%    4.968298e+07  \n",
       "75%    1.383581e+08  \n",
       "max    3.386520e+09  "
      ]
     },
     "execution_count": 3,
     "metadata": {},
     "output_type": "execute_result"
    }
   ],
   "source": [
    "df=datos_leidos\n",
    "numeric_columns = df.select_dtypes(include=[np.number]).columns.tolist()\n",
    "numeric_resume = df[numeric_columns].describe()\n",
    "numeric_resume"
   ]
  },
  {
   "cell_type": "code",
   "execution_count": 4,
   "metadata": {},
   "outputs": [],
   "source": [
    "correlations=df[numeric_columns].corr()"
   ]
  },
  {
   "cell_type": "code",
   "execution_count": 5,
   "metadata": {},
   "outputs": [
    {
     "data": {
      "image/png": "[encoded data removed]",
      "text/plain": [
       "<Figure size 800x500 with 2 Axes>"
      ]
     },
     "metadata": {},
     "output_type": "display_data"
    }
   ],
   "source": [
    "f, ax = plt.subplots(figsize=(8, 5))\n",
    "cmap = sn.diverging_palette(250, 10, as_cmap=True)\n",
    "mask = np.triu(np.ones_like(correlations, dtype=bool))\n",
    "sn.heatmap(correlations, cmap=cmap, mask=mask , linewidths=0.5, center=0)\n",
    "plt.show()\n"
   ]
  },
  {
   "cell_type": "code",
   "execution_count": 6,
   "metadata": {},
   "outputs": [
    {
     "name": "stdout",
     "output_type": "stream",
     "text": [
      "Requirement already satisfied: spotipy in c:\\users\\smorga\\appdata\\local\\programs\\python\\python310\\lib\\site-packages (2.23.0)\n",
      "Requirement already satisfied: redis>=3.5.3 in c:\\users\\smorga\\appdata\\local\\programs\\python\\python310\\lib\\site-packages (from spotipy) (4.5.5)\n",
      "Requirement already satisfied: requests>=2.25.0 in c:\\users\\smorga\\appdata\\local\\programs\\python\\python310\\lib\\site-packages (from spotipy) (2.30.0)\n",
      "Requirement already satisfied: six>=1.15.0 in c:\\users\\smorga\\appdata\\roaming\\python\\python310\\site-packages (from spotipy) (1.16.0)\n",
      "Requirement already satisfied: urllib3>=1.26.0 in c:\\users\\smorga\\appdata\\local\\programs\\python\\python310\\lib\\site-packages (from spotipy) (2.0.2)\n",
      "Requirement already satisfied: async-timeout>=4.0.2 in c:\\users\\smorga\\appdata\\local\\programs\\python\\python310\\lib\\site-packages (from redis>=3.5.3->spotipy) (4.0.2)\n",
      "Requirement already satisfied: charset-normalizer<4,>=2 in c:\\users\\smorga\\appdata\\local\\programs\\python\\python310\\lib\\site-packages (from requests>=2.25.0->spotipy) (3.1.0)\n",
      "Requirement already satisfied: idna<4,>=2.5 in c:\\users\\smorga\\appdata\\local\\programs\\python\\python310\\lib\\site-packages (from requests>=2.25.0->spotipy) (3.4)\n",
      "Requirement already satisfied: certifi>=2017.4.17 in c:\\users\\smorga\\appdata\\local\\programs\\python\\python310\\lib\\site-packages (from requests>=2.25.0->spotipy) (2023.5.7)\n",
      "Note: you may need to restart the kernel to use updated packages.\n"
     ]
    }
   ],
   "source": [
    "pip install spotipy"
   ]
  },
  {
   "cell_type": "code",
   "execution_count": 7,
   "metadata": {},
   "outputs": [],
   "source": [
    "import spotipy\n",
    "from spotipy.oauth2 import SpotifyClientCredentials \n",
    "client_id = \"67e290d37cfb429b8c53c0c930133bff\"\n",
    "client_secret = \"6880ee9c0dca48d7a9e520da6be9d2f2\"\n",
    "client_credentials_manager = SpotifyClientCredentials(client_id=client_id, client_secret=client_secret)\n",
    "sp = spotipy.Spotify(client_credentials_manager=client_credentials_manager) "
   ]
  },
  {
   "cell_type": "code",
   "execution_count": 8,
   "metadata": {},
   "outputs": [
    {
     "data": {
      "text/plain": [
       "[{'external_urls': {'spotify': 'https://open.spotify.com/artist/3fMbdgg4jU18AjLCKBhRSm'},\n",
       "  'href': 'https://api.spotify.com/v1/artists/3fMbdgg4jU18AjLCKBhRSm',\n",
       "  'id': '3fMbdgg4jU18AjLCKBhRSm',\n",
       "  'name': 'Michael Jackson',\n",
       "  'type': 'artist',\n",
       "  'uri': 'spotify:artist:3fMbdgg4jU18AjLCKBhRSm'}]"
      ]
     },
     "execution_count": 8,
     "metadata": {},
     "output_type": "execute_result"
    }
   ],
   "source": [
    "name = [\"Micheal Jackson\",\"pitbull\",\"Christina\",\"Elvis Presley\"]\n",
    "result = sp.search(name) \n",
    "result['tracks']['items'][1]['artists']"
   ]
  },
  {
   "cell_type": "code",
   "execution_count": 9,
   "metadata": {},
   "outputs": [
    {
     "data": {
      "text/plain": [
       "[{'danceability': 0.818,\n",
       "  'energy': 0.705,\n",
       "  'key': 6,\n",
       "  'loudness': -6.679,\n",
       "  'mode': 1,\n",
       "  'speechiness': 0.177,\n",
       "  'acousticness': 0.00836,\n",
       "  'instrumentalness': 0.00233,\n",
       "  'liveness': 0.613,\n",
       "  'valence': 0.772,\n",
       "  'tempo': 138.559,\n",
       "  'type': 'audio_features',\n",
       "  'id': '0d28khcov6AiegSCpG5TuT',\n",
       "  'uri': 'spotify:track:0d28khcov6AiegSCpG5TuT',\n",
       "  'track_href': 'https://api.spotify.com/v1/tracks/0d28khcov6AiegSCpG5TuT',\n",
       "  'analysis_url': 'https://api.spotify.com/v1/audio-analysis/0d28khcov6AiegSCpG5TuT',\n",
       "  'duration_ms': 222640,\n",
       "  'time_signature': 4}]"
      ]
     },
     "execution_count": 9,
     "metadata": {},
     "output_type": "execute_result"
    }
   ],
   "source": [
    "sample = sp.audio_features('0d28khcov6AiegSCpG5TuT')\n",
    "sample"
   ]
  },
  {
   "cell_type": "code",
   "execution_count": 10,
   "metadata": {},
   "outputs": [
    {
     "data": {
      "text/plain": [
       "'2005-05-23'"
      ]
     },
     "execution_count": 10,
     "metadata": {},
     "output_type": "execute_result"
    }
   ],
   "source": [
    "track = sp.track('0d28khcov6AiegSCpG5TuT')\n",
    "track['album']['release_date']\n"
   ]
  },
  {
   "attachments": {},
   "cell_type": "markdown",
   "metadata": {},
   "source": [
    "con esto consigo el release date de un track (en realidad del album de ese track)"
   ]
  },
  {
   "cell_type": "code",
   "execution_count": 11,
   "metadata": {},
   "outputs": [
    {
     "data": {
      "text/plain": [
       "'2005-05-23'"
      ]
     },
     "execution_count": 11,
     "metadata": {},
     "output_type": "execute_result"
    }
   ],
   "source": [
    "release_date = sp.track('0d28khcov6AiegSCpG5TuT')['album']['release_date']\n",
    "release_date\n",
    "\n"
   ]
  },
  {
   "attachments": {},
   "cell_type": "markdown",
   "metadata": {},
   "source": [
    "acá consigo todos los ids de los tracks"
   ]
  },
  {
   "cell_type": "code",
   "execution_count": 12,
   "metadata": {},
   "outputs": [
    {
     "name": "stdout",
     "output_type": "stream",
     "text": [
      "0        0d28khcov6AiegSCpG5TuT\n",
      "1        1foMv2HQwfQ2vntFf9HFeG\n",
      "2        64dLd6rVqDLtkXFYrEUHIU\n",
      "3        0q6LuUqGLUiCPP1cbdwFs3\n",
      "4        7yMiX7n9SBvadzox8T5jzT\n",
      "                  ...          \n",
      "20713    0RtcKQGyI4hr8FgFH1TuYG\n",
      "20714    3rHvPA8lUnPBkaLyPOc0VV\n",
      "20715    4jk00YxPtPbhvHJE9N4ddv\n",
      "20716    5EyErbpsugWliX006eTDex\n",
      "20717    6lOn0jz1QpjcWeXo1oMm0k\n",
      "Name: Uri, Length: 20718, dtype: object\n",
      "20718\n"
     ]
    }
   ],
   "source": [
    "uri = (df.loc[:, 'Uri'])\n",
    "list_id= uri.str[-22:]\n",
    "print(list_id)\n",
    "type(list_id)\n",
    "print(len(list_id))\n"
   ]
  },
  {
   "cell_type": "code",
   "execution_count": 13,
   "metadata": {},
   "outputs": [
    {
     "name": "stdout",
     "output_type": "stream",
     "text": [
      "1    1foMv2HQwfQ2vntFf9HFeG\n",
      "2    64dLd6rVqDLtkXFYrEUHIU\n",
      "3    0q6LuUqGLUiCPP1cbdwFs3\n",
      "Name: Uri, dtype: object\n"
     ]
    }
   ],
   "source": [
    "print(list_id[1:4])"
   ]
  },
  {
   "cell_type": "code",
   "execution_count": 14,
   "metadata": {},
   "outputs": [
    {
     "name": "stdout",
     "output_type": "stream",
     "text": [
      "2010-03-03\n",
      "['2010-03-03']\n",
      "2022-08-31\n",
      "['2010-03-03', '2022-08-31']\n",
      "2010-03-03\n",
      "['2010-03-03', '2022-08-31', '2010-03-03']\n"
     ]
    }
   ],
   "source": [
    "dates=[]\n",
    "for i in list_id[1:4]:\n",
    "    print(sp.track(i)['album']['release_date'])\n",
    "    dates.append(sp.track(i)['album']['release_date'])\n",
    "    print(dates)"
   ]
  },
  {
   "cell_type": "code",
   "execution_count": 18,
   "metadata": {},
   "outputs": [
    {
     "name": "stdout",
     "output_type": "stream",
     "text": [
      "                      Uri       Dates\n",
      "1  1foMv2HQwfQ2vntFf9HFeG  2010-03-03\n",
      "2  64dLd6rVqDLtkXFYrEUHIU  2022-08-31\n",
      "3  0q6LuUqGLUiCPP1cbdwFs3  2010-03-03\n"
     ]
    }
   ],
   "source": [
    "df1000 = pd.DataFrame(list_id[1:4])\n",
    "df2 = df1000.assign(Dates=dates)\n",
    "print(df2)\n"
   ]
  },
  {
   "cell_type": "code",
   "execution_count": null,
   "metadata": {},
   "outputs": [],
   "source": []
  },
  {
   "cell_type": "code",
   "execution_count": null,
   "metadata": {},
   "outputs": [],
   "source": []
  }
 ],
 "metadata": {
  "kernelspec": {
   "display_name": "Python 3",
   "language": "python",
   "name": "python3"
  },
  "language_info": {
   "codemirror_mode": {
    "name": "ipython",
    "version": 3
   },
   "file_extension": ".py",
   "mimetype": "text/x-python",
   "name": "python",
   "nbconvert_exporter": "python",
   "pygments_lexer": "ipython3",
   "version": "3.10.11"
  },
  "orig_nbformat": 4
 },
 "nbformat": 4,
 "nbformat_minor": 2
}
